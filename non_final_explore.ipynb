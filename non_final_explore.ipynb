{
 "cells": [
  {
   "cell_type": "code",
   "execution_count": 1,
   "id": "f83f8c02",
   "metadata": {},
   "outputs": [],
   "source": [
    "# Libraries working for arrays and dataframe\n",
    "import numpy as np\n",
    "import pandas as pd\n",
    "# Used for Data Visualization and statistical tool\n",
    "from scipy import stats\n",
    "from pydataset import data\n",
    "import seaborn as sns\n",
    "import matplotlib.pyplot as plt \n",
    "\n",
    "#personal files/functions\n",
    "import wrangle as w"
   ]
  },
  {
   "cell_type": "code",
   "execution_count": 2,
   "id": "89d9c0e6",
   "metadata": {},
   "outputs": [],
   "source": [
    "df=w.covid_data()"
   ]
  },
  {
   "cell_type": "code",
   "execution_count": null,
   "id": "7636ba53",
   "metadata": {},
   "outputs": [],
   "source": []
  }
 ],
 "metadata": {
  "kernelspec": {
   "display_name": "Python 3 (ipykernel)",
   "language": "python",
   "name": "python3"
  },
  "language_info": {
   "codemirror_mode": {
    "name": "ipython",
    "version": 3
   },
   "file_extension": ".py",
   "mimetype": "text/x-python",
   "name": "python",
   "nbconvert_exporter": "python",
   "pygments_lexer": "ipython3",
   "version": "3.9.13"
  }
 },
 "nbformat": 4,
 "nbformat_minor": 5
}
